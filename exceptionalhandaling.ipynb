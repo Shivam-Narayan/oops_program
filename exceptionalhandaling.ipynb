{
 "cells": [
  {
   "cell_type": "markdown",
   "metadata": {},
   "source": [
    "# Exception handling"
   ]
  },
  {
   "cell_type": "markdown",
   "metadata": {},
   "source": [
    "It is an event or an issue occurs during program execution.\n",
    "These exceptions can be handled by the exception handlers.\n",
    "Some exceptions can be handled, some exception cannot be handled.\n",
    "\n",
    "What is exception handlers:-\n",
    "It ia a part of a program executed only when exception occurs.\n",
    "To handle exceptions, There are 3 exception handlers named:(TRY,Except,finally)"
   ]
  }
 ],
 "metadata": {
  "kernelspec": {
   "display_name": "Python 3",
   "language": "python",
   "name": "python3"
  },
  "language_info": {
   "name": "python",
   "version": "3.12.3"
  }
 },
 "nbformat": 4,
 "nbformat_minor": 2
}
