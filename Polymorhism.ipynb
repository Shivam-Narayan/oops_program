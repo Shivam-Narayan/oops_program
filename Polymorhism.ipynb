{
  "cells": [
    {
      "cell_type": "markdown",
      "id": "3b71fe85-3e59-440e-a02d-243176368798",
      "metadata": {
        "id": "3b71fe85-3e59-440e-a02d-243176368798"
      },
      "source": [
        "# Operator Overloading"
      ]
    },
    {
      "cell_type": "code",
      "execution_count": null,
      "id": "56edb4f5-f55b-4ec0-9c03-c53615e73ea4",
      "metadata": {
        "id": "56edb4f5-f55b-4ec0-9c03-c53615e73ea4",
        "outputId": "7c133fda-5a11-4654-deb0-55a71dd6192c"
      },
      "outputs": [
        {
          "data": {
            "text/plain": [
              "2"
            ]
          },
          "execution_count": 3,
          "metadata": {},
          "output_type": "execute_result"
        }
      ],
      "source": [
        "1+1"
      ]
    },
    {
      "cell_type": "code",
      "execution_count": null,
      "id": "b0d05bad-970a-431c-9ad7-7aa00ab9f9a9",
      "metadata": {
        "id": "b0d05bad-970a-431c-9ad7-7aa00ab9f9a9",
        "outputId": "c789e23b-d1a6-4cdd-d9f7-db681aefc962"
      },
      "outputs": [
        {
          "data": {
            "text/plain": [
              "'11'"
            ]
          },
          "execution_count": 5,
          "metadata": {},
          "output_type": "execute_result"
        }
      ],
      "source": [
        "'1' + '1'"
      ]
    },
    {
      "cell_type": "code",
      "execution_count": null,
      "id": "1954012c-a834-4037-a573-d9d9a97cd17f",
      "metadata": {
        "id": "1954012c-a834-4037-a573-d9d9a97cd17f",
        "outputId": "450f02e0-7d8f-44d7-c391-d701d547f358"
      },
      "outputs": [
        {
          "data": {
            "text/plain": [
              "[1, 2, 3, 4]"
            ]
          },
          "execution_count": 9,
          "metadata": {},
          "output_type": "execute_result"
        }
      ],
      "source": [
        "[1,2] + [3,4]"
      ]
    },
    {
      "cell_type": "code",
      "execution_count": null,
      "id": "52ca893e-e30b-4dd0-a649-c57e4ec5d073",
      "metadata": {
        "id": "52ca893e-e30b-4dd0-a649-c57e4ec5d073",
        "outputId": "79a18b66-4fe5-4c8f-fac0-f974a9a7599d"
      },
      "outputs": [
        {
          "data": {
            "text/plain": [
              "4304135512"
            ]
          },
          "execution_count": 92,
          "metadata": {},
          "output_type": "execute_result"
        }
      ],
      "source": []
    },
    {
      "cell_type": "markdown",
      "id": "ce87c541-4512-4eb5-a7b2-13227be3db2e",
      "metadata": {
        "id": "ce87c541-4512-4eb5-a7b2-13227be3db2e"
      },
      "source": [
        "# Polymorphism"
      ]
    },
    {
      "cell_type": "markdown",
      "id": "2d1927d1-1ddd-4bc6-9759-29025401ba04",
      "metadata": {
        "id": "2d1927d1-1ddd-4bc6-9759-29025401ba04"
      },
      "source": [
        "# Method Overloading"
      ]
    },
    {
      "cell_type": "code",
      "execution_count": null,
      "id": "9d63a964-aa87-4b08-9d54-ec90e0bbf566",
      "metadata": {
        "id": "9d63a964-aa87-4b08-9d54-ec90e0bbf566"
      },
      "outputs": [],
      "source": []
    },
    {
      "cell_type": "code",
      "execution_count": null,
      "id": "d38675ca-5419-4fe0-ac2d-135bfe17f825",
      "metadata": {
        "id": "d38675ca-5419-4fe0-ac2d-135bfe17f825"
      },
      "outputs": [],
      "source": [
        "def sum2(a,b):\n",
        "    print(a+b)"
      ]
    },
    {
      "cell_type": "code",
      "execution_count": null,
      "id": "cc1528f6-77b0-4943-991e-fd08762d8036",
      "metadata": {
        "id": "cc1528f6-77b0-4943-991e-fd08762d8036"
      },
      "outputs": [],
      "source": [
        "def sum3(a,b,c):\n",
        "    print(a+b+c)"
      ]
    },
    {
      "cell_type": "code",
      "execution_count": null,
      "id": "17f2ed0a-0058-43b6-a9fc-10a9a8586389",
      "metadata": {
        "id": "17f2ed0a-0058-43b6-a9fc-10a9a8586389"
      },
      "outputs": [],
      "source": [
        "def sumBetter(a,b,c=0):\n",
        "    if(c==0):\n",
        "        sum2(a,b)\n",
        "    else:\n",
        "        sum3(a,b,c)"
      ]
    },
    {
      "cell_type": "code",
      "execution_count": null,
      "id": "e7ed34a6-a95d-4927-890c-e2682608939c",
      "metadata": {
        "id": "e7ed34a6-a95d-4927-890c-e2682608939c",
        "outputId": "893d743f-69dc-4276-e4e0-fd941bb67526"
      },
      "outputs": [
        {
          "name": "stdout",
          "output_type": "stream",
          "text": [
            "9\n"
          ]
        }
      ],
      "source": [
        "sumBetter(2,3,4)"
      ]
    },
    {
      "cell_type": "code",
      "execution_count": null,
      "id": "914d3709-e70a-45b5-a8b3-1e2da0dc40fe",
      "metadata": {
        "id": "914d3709-e70a-45b5-a8b3-1e2da0dc40fe",
        "outputId": "1e08748e-4bf9-4df9-c1ac-f962f80b7a66"
      },
      "outputs": [
        {
          "name": "stdout",
          "output_type": "stream",
          "text": [
            "6\n"
          ]
        }
      ],
      "source": [
        "sumBetter(2,4)"
      ]
    },
    {
      "cell_type": "code",
      "execution_count": null,
      "id": "6fc9d8d5-a81b-4b92-9655-18106303fbe3",
      "metadata": {
        "id": "6fc9d8d5-a81b-4b92-9655-18106303fbe3"
      },
      "outputs": [],
      "source": []
    },
    {
      "cell_type": "code",
      "execution_count": null,
      "id": "01de286a-1fa7-48bc-bd81-6c9053e8bec7",
      "metadata": {
        "id": "01de286a-1fa7-48bc-bd81-6c9053e8bec7"
      },
      "outputs": [],
      "source": [
        "class User:\n",
        "\n",
        "    def __init__(self,name,mobileNumber,address=\"\"):\n",
        "        if(address==\"\"):\n",
        "            self.C1(name,mobileNumber)\n",
        "        else:\n",
        "            self.C2(name,mobileNumber,address)\n",
        "\n",
        "    def C1(self,name,mobileNumber):\n",
        "        self.name = name\n",
        "        self.mobileNumber = mobileNumber\n",
        "\n",
        "    def C2(self,name,mobileNumber,address):\n",
        "        self.name = name\n",
        "        self.mobileNumber = mobileNumber\n",
        "        self.address = address"
      ]
    },
    {
      "cell_type": "code",
      "execution_count": null,
      "id": "489a3a41-ecf8-4a24-97cc-7f095e356351",
      "metadata": {
        "id": "489a3a41-ecf8-4a24-97cc-7f095e356351"
      },
      "outputs": [],
      "source": [
        "u1 = User(\"Mayank\",\"9999999\",\"Delhi\")"
      ]
    },
    {
      "cell_type": "code",
      "execution_count": null,
      "id": "ff48ce95-d320-4bb8-aecf-23f3734df7f5",
      "metadata": {
        "id": "ff48ce95-d320-4bb8-aecf-23f3734df7f5"
      },
      "outputs": [],
      "source": []
    },
    {
      "cell_type": "code",
      "execution_count": null,
      "id": "6813c339-967f-42c6-9709-c91fb2101c94",
      "metadata": {
        "id": "6813c339-967f-42c6-9709-c91fb2101c94"
      },
      "outputs": [],
      "source": []
    },
    {
      "cell_type": "code",
      "execution_count": null,
      "id": "025252a6-0eb4-44c5-898b-34eb33bbb201",
      "metadata": {
        "id": "025252a6-0eb4-44c5-898b-34eb33bbb201"
      },
      "outputs": [],
      "source": []
    },
    {
      "cell_type": "markdown",
      "id": "7f52a1ae-2d2b-43e1-aa55-f8a1c7cb074b",
      "metadata": {
        "id": "7f52a1ae-2d2b-43e1-aa55-f8a1c7cb074b"
      },
      "source": [
        "# Method Overriding"
      ]
    },
    {
      "cell_type": "code",
      "execution_count": null,
      "id": "6b8288a9-9d88-4338-8028-621931ed74ae",
      "metadata": {
        "id": "6b8288a9-9d88-4338-8028-621931ed74ae"
      },
      "outputs": [],
      "source": []
    },
    {
      "cell_type": "code",
      "execution_count": null,
      "id": "db5946e5-4bcb-4aa8-8733-5ac6d2dabf05",
      "metadata": {
        "id": "db5946e5-4bcb-4aa8-8733-5ac6d2dabf05",
        "outputId": "b235d174-557e-4f82-ff33-1e4d106fdb24"
      },
      "outputs": [
        {
          "name": "stdout",
          "output_type": "stream",
          "text": [
            "Bark\n"
          ]
        },
        {
          "data": {
            "text/plain": [
              "'Some sound'"
            ]
          },
          "execution_count": 86,
          "metadata": {},
          "output_type": "execute_result"
        }
      ],
      "source": [
        "class Animal:\n",
        "    def sound(self):\n",
        "        return 'Some sound'\n",
        "\n",
        "class Dog(Animal):\n",
        "    def sound(self):\n",
        "        return 'Bark'\n",
        "\n",
        "obj = Dog()\n",
        "print(obj.sound())\n",
        "\n",
        "obj = Animal()\n",
        "obj.sound()"
      ]
    },
    {
      "cell_type": "code",
      "execution_count": null,
      "id": "b0f27559-14a8-4193-a0d7-b024ecf28dd8",
      "metadata": {
        "id": "b0f27559-14a8-4193-a0d7-b024ecf28dd8"
      },
      "outputs": [],
      "source": []
    },
    {
      "cell_type": "code",
      "execution_count": null,
      "id": "d595ebe0-0b50-4ee3-aafa-50cced1c2efa",
      "metadata": {
        "id": "d595ebe0-0b50-4ee3-aafa-50cced1c2efa"
      },
      "outputs": [],
      "source": []
    },
    {
      "cell_type": "code",
      "execution_count": null,
      "id": "5df22b83-a59f-431d-9f15-cf5146f1205a",
      "metadata": {
        "id": "5df22b83-a59f-431d-9f15-cf5146f1205a"
      },
      "outputs": [],
      "source": []
    }
  ],
  "metadata": {
    "kernelspec": {
      "display_name": "Python 3 (ipykernel)",
      "language": "python",
      "name": "python3"
    },
    "language_info": {
      "codemirror_mode": {
        "name": "ipython",
        "version": 3
      },
      "file_extension": ".py",
      "mimetype": "text/x-python",
      "name": "python",
      "nbconvert_exporter": "python",
      "pygments_lexer": "ipython3",
      "version": "3.11.5"
    },
    "colab": {
      "provenance": []
    }
  },
  "nbformat": 4,
  "nbformat_minor": 5
}