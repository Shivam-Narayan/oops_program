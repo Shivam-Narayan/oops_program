{
 "cells": [
  {
   "cell_type": "code",
   "execution_count": null,
   "metadata": {},
   "outputs": [],
   "source": [
    "class Student:\n",
    "    __numberOfStudents = 0 # Class variable or Static Property\n",
    "    __schoolName = \"MAPS\"\n",
    "    \n",
    "    isPlusMember = True\n",
    "    \n",
    "    def __init__(self,name,rollNumber,marks):\n",
    "        # print(id(self))\n",
    "        self.rollNumber = rollNumber\n",
    "        self.name = name\n",
    "        self.__marks = marks\n",
    "        self.numberOfStudents  = Student.__numberOfStudents + 1\n",
    "        Student.__numberOfStudents = Student.__numberOfStudents + 1\n",
    "    \n",
    "    #getter\n",
    "    def getMarks(self):\n",
    "        return self.__marks\n",
    "    #setter\n",
    "    def setMarks(self,newMarks,passCode):\n",
    "        if(passCode == self.__auth()):       # Security\n",
    "            self.__marks = newMarks\n",
    "        else:\n",
    "            return \"Bhag yaha se\"\n",
    "    \n",
    "    @staticmethod       \n",
    "    def getSchoolName():\n",
    "        return Student.__schoolName\n",
    "        \n",
    "    @staticmethod\n",
    "    def setSchoolName(newSchoolName,passCode):\n",
    "        Student.__SendMail()\n",
    "        Student.__schoolName = newSchoolName\n",
    "\n",
    "    @staticmethod\n",
    "    def __SendMail():\n",
    "        print(\"Sending the mail to all the comitee members\")\n",
    "\n",
    "    def getStudentSchoolName(self):\n",
    "        return Student.__schoolName \n",
    "    \n",
    "    def __auth(self):\n",
    "        return \"0000\"\n",
    "\n",
    "    def study(self):\n",
    "        print(\"I am \"+ str(self.rollNumber) +\" and I am  studying\")\n",
    "        \n",
    "    def play(self):\n",
    "        print(\"Pdh liya, now going to play\")"
   ]
  },
  {
   "cell_type": "code",
   "execution_count": null,
   "metadata": {},
   "outputs": [],
   "source": [
    "s1 = Student(\"Mayank\",1,90)"
   ]
  },
  {
   "cell_type": "code",
   "execution_count": null,
   "metadata": {},
   "outputs": [],
   "source": [
    "Student.setSchoolName(\"NSIT\",\"000\")"
   ]
  },
  {
   "cell_type": "code",
   "execution_count": null,
   "metadata": {},
   "outputs": [],
   "source": [
    "Student."
   ]
  },
  {
   "cell_type": "code",
   "execution_count": null,
   "metadata": {},
   "outputs": [],
   "source": [
    "Student.getSchoolName()"
   ]
  },
  {
   "cell_type": "code",
   "execution_count": null,
   "metadata": {},
   "outputs": [],
   "source": [
    "s1.getStudentSchoolName()"
   ]
  },
  {
   "cell_type": "code",
   "execution_count": null,
   "metadata": {},
   "outputs": [],
   "source": [
    "s1 = Student(\"Mayank\",1,90)\n",
    "s2 = Student(\"Goku\",2,90)"
   ]
  },
  {
   "cell_type": "code",
   "execution_count": null,
   "metadata": {},
   "outputs": [],
   "source": [
    "s1.numberOfStudents"
   ]
  },
  {
   "cell_type": "code",
   "execution_count": null,
   "metadata": {},
   "outputs": [],
   "source": [
    "s1.getMarks()"
   ]
  },
  {
   "cell_type": "code",
   "execution_count": null,
   "metadata": {},
   "outputs": [],
   "source": [
    "s1.setMarks(95,\"0001\")"
   ]
  },
  {
   "cell_type": "code",
   "execution_count": null,
   "metadata": {},
   "outputs": [],
   "source": [
    "s1.getMarks()"
   ]
  },
  {
   "cell_type": "code",
   "execution_count": null,
   "metadata": {},
   "outputs": [],
   "source": [
    "s2.marks"
   ]
  },
  {
   "cell_type": "code",
   "execution_count": null,
   "metadata": {},
   "outputs": [],
   "source": [
    "s1.marks=45"
   ]
  },
  {
   "cell_type": "code",
   "execution_count": null,
   "metadata": {},
   "outputs": [],
   "source": [
    "s1.marks"
   ]
  },
  {
   "cell_type": "code",
   "execution_count": null,
   "metadata": {},
   "outputs": [],
   "source": [
    "s1.getMarks()"
   ]
  },
  {
   "cell_type": "code",
   "execution_count": null,
   "metadata": {},
   "outputs": [],
   "source": [
    "s1.name = \"knayam\"\n",
    "s1.name"
   ]
  },
  {
   "cell_type": "markdown",
   "metadata": {},
   "source": [
    "s1.setMarks(70)\n",
    "s1.getMarks()"
   ]
  }
 ],
 "metadata": {
  "kernelspec": {
   "display_name": "Python 3",
   "language": "python",
   "name": "python3"
  },
  "language_info": {
   "name": "python",
   "version": "3.12.3"
  }
 },
 "nbformat": 4,
 "nbformat_minor": 2
}
