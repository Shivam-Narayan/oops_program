{
 "cells": [
  {
   "cell_type": "markdown",
   "metadata": {},
   "source": [
    "# Encapsulation"
   ]
  },
  {
   "cell_type": "markdown",
   "metadata": {},
   "source": [
    "The process of binding a grouping variables and functions inside a class is called as encapsulation.\n",
    "We achieve encapsulation using private variables and public function (setter and getter)\n",
    "Setter method is always is used to set/initialize the data.\n",
    "Getter method is always is used to get/return the data."
   ]
  },
  {
   "cell_type": "code",
   "execution_count": 7,
   "metadata": {},
   "outputs": [],
   "source": [
    "class Student:\n",
    "    __numberOfStudents = 0 # Class variable or Static Property\n",
    "    __schoolName = \"MAPS\"\n",
    "    \n",
    "    isPlusMember = True\n",
    "    \n",
    "    def __init__(self,name,rollNumber,marks):\n",
    "        # print(id(self))\n",
    "        self.rollNumber = rollNumber\n",
    "        self.name = name\n",
    "        self.__marks = marks\n",
    "        self.numberOfStudents  = Student.__numberOfStudents + 1\n",
    "        Student.__numberOfStudents = Student.__numberOfStudents + 1\n",
    "    \n",
    "    #getter\n",
    "    def getMarks(self):\n",
    "        return self.__marks\n",
    "    #setter\n",
    "    def setMarks(self,newMarks,passCode):\n",
    "        if(passCode == self.__auth()):       # Security\n",
    "            self.__marks = newMarks\n",
    "        else:\n",
    "            return \"Bhag yaha se\"\n",
    "    \n",
    "    @staticmethod       \n",
    "    def getSchoolName():\n",
    "        return Student.__schoolName\n",
    "        \n",
    "    @staticmethod\n",
    "    def setSchoolName(newSchoolName,passCode):\n",
    "        Student.__SendMail()\n",
    "        Student.__schoolName = newSchoolName\n",
    "\n",
    "    @staticmethod\n",
    "    def __SendMail():\n",
    "        print(\"Sending the mail to all the comitee members\")\n",
    "\n",
    "    def getStudentSchoolName(self):\n",
    "        return Student.__schoolName \n",
    "    \n",
    "    def __auth(self):\n",
    "        return \"0000\"\n",
    "\n",
    "    def study(self):\n",
    "        print(\"I am \"+ str(self.rollNumber) +\" and I am  studying\")\n",
    "        \n",
    "    def play(self):\n",
    "        print(\"Pdh liya, now going to play\")"
   ]
  },
  {
   "cell_type": "code",
   "execution_count": 8,
   "metadata": {},
   "outputs": [],
   "source": [
    "s1 = Student(\"Mayank\",1,90)"
   ]
  },
  {
   "cell_type": "code",
   "execution_count": 9,
   "metadata": {},
   "outputs": [
    {
     "name": "stdout",
     "output_type": "stream",
     "text": [
      "Sending the mail to all the comitee members\n"
     ]
    }
   ],
   "source": [
    "Student.setSchoolName(\"NSIT\",\"000\")"
   ]
  },
  {
   "cell_type": "code",
   "execution_count": 10,
   "metadata": {},
   "outputs": [
    {
     "ename": "SyntaxError",
     "evalue": "invalid syntax (1570622856.py, line 1)",
     "output_type": "error",
     "traceback": [
      "\u001b[0;36m  Cell \u001b[0;32mIn[10], line 1\u001b[0;36m\u001b[0m\n\u001b[0;31m    Student.\u001b[0m\n\u001b[0m            ^\u001b[0m\n\u001b[0;31mSyntaxError\u001b[0m\u001b[0;31m:\u001b[0m invalid syntax\n"
     ]
    }
   ],
   "source": [
    "Student."
   ]
  },
  {
   "cell_type": "code",
   "execution_count": null,
   "metadata": {},
   "outputs": [],
   "source": [
    "Student.getSchoolName()"
   ]
  },
  {
   "cell_type": "code",
   "execution_count": null,
   "metadata": {},
   "outputs": [],
   "source": [
    "s1.getStudentSchoolName()"
   ]
  },
  {
   "cell_type": "code",
   "execution_count": null,
   "metadata": {},
   "outputs": [],
   "source": [
    "s1 = Student(\"Mayank\",1,90)\n",
    "s2 = Student(\"Goku\",2,90)"
   ]
  },
  {
   "cell_type": "code",
   "execution_count": null,
   "metadata": {},
   "outputs": [],
   "source": [
    "s1.numberOfStudents"
   ]
  },
  {
   "cell_type": "code",
   "execution_count": null,
   "metadata": {},
   "outputs": [],
   "source": [
    "s1.getMarks()"
   ]
  },
  {
   "cell_type": "code",
   "execution_count": null,
   "metadata": {},
   "outputs": [],
   "source": [
    "s1.setMarks(95,\"0001\")"
   ]
  },
  {
   "cell_type": "code",
   "execution_count": null,
   "metadata": {},
   "outputs": [],
   "source": [
    "s1.getMarks()"
   ]
  },
  {
   "cell_type": "code",
   "execution_count": null,
   "metadata": {},
   "outputs": [],
   "source": [
    "s2.marks"
   ]
  },
  {
   "cell_type": "code",
   "execution_count": null,
   "metadata": {},
   "outputs": [],
   "source": [
    "s1.marks=45"
   ]
  },
  {
   "cell_type": "code",
   "execution_count": null,
   "metadata": {},
   "outputs": [],
   "source": [
    "s1.marks"
   ]
  },
  {
   "cell_type": "code",
   "execution_count": null,
   "metadata": {},
   "outputs": [],
   "source": [
    "s1.getMarks()"
   ]
  },
  {
   "cell_type": "code",
   "execution_count": null,
   "metadata": {},
   "outputs": [],
   "source": [
    "s1.name = \"knayam\"\n",
    "s1.name"
   ]
  },
  {
   "cell_type": "markdown",
   "metadata": {},
   "source": [
    "s1.setMarks(70)\n",
    "s1.getMarks()"
   ]
  }
 ],
 "metadata": {
  "kernelspec": {
   "display_name": "Python 3",
   "language": "python",
   "name": "python3"
  },
  "language_info": {
   "codemirror_mode": {
    "name": "ipython",
    "version": 3
   },
   "file_extension": ".py",
   "mimetype": "text/x-python",
   "name": "python",
   "nbconvert_exporter": "python",
   "pygments_lexer": "ipython3",
   "version": "3.12.3"
  }
 },
 "nbformat": 4,
 "nbformat_minor": 2
}
